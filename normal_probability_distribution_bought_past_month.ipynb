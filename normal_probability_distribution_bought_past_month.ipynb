{
 "cells": [
  {
   "cell_type": "code",
   "execution_count": 17,
   "id": "b7c22601-be57-4903-921a-e0b1ac6bda96",
   "metadata": {},
   "outputs": [
    {
     "data": {
      "text/plain": [
       "bought_past_month    992\n",
       "dtype: int64"
      ]
     },
     "execution_count": 17,
     "metadata": {},
     "output_type": "execute_result"
    }
   ],
   "source": [
    "import pandas as pd \n",
    "import numpy as np \n",
    "filepath = \"C:/Users/ADMIN/BAOHUY/Phan_tich_du_lieu/bought_past_month.csv\"\n",
    "my_data = pd.read_csv(filepath)\n",
    "my_data.isna().count()"
   ]
  },
  {
   "cell_type": "code",
   "execution_count": 18,
   "id": "5b61a785-ada5-4b88-ae81-a1b2dfb496b5",
   "metadata": {},
   "outputs": [],
   "source": [
    "mean_data = my_data[\"bought_past_month\"].mean()\n",
    "std = np.std(my_data[\"bought_past_month\"])"
   ]
  },
  {
   "cell_type": "code",
   "execution_count": 19,
   "id": "e01275a0-5d6b-48e9-b20a-8f3d0d114526",
   "metadata": {},
   "outputs": [
    {
     "data": {
      "text/plain": [
       "nan"
      ]
     },
     "execution_count": 19,
     "metadata": {},
     "output_type": "execute_result"
    }
   ],
   "source": [
    "S = 0 \n",
    "for i in range(len(my_data[\"bought_past_month\"])): \n",
    "    S += pow((my_data[\"bought_past_month\"][i]-mean_data),3)\n",
    "S /= (len(my_data[\"bought_past_month\"])*pow(std,3))\n",
    "S"
   ]
  },
  {
   "cell_type": "code",
   "execution_count": 26,
   "id": "79a38f13-fe1c-4cd6-804a-a8583aa9352e",
   "metadata": {},
   "outputs": [
    {
     "data": {
      "text/plain": [
       "nan"
      ]
     },
     "execution_count": 26,
     "metadata": {},
     "output_type": "execute_result"
    }
   ],
   "source": [
    "K = 0 \n",
    "for i in range(len(my_data[\"bought_past_month\"])): \n",
    "    K += pow((my_data[\"bought_past_month\"][i]-mean_data),4)\n",
    "K /= (len(my_data[\"bought_past_month\"])*pow(std,4))\n",
    "K"
   ]
  },
  {
   "cell_type": "code",
   "execution_count": null,
   "id": "690486f4-a90d-440b-a0a2-7c035abe7a62",
   "metadata": {},
   "outputs": [],
   "source": []
  }
 ],
 "metadata": {
  "kernelspec": {
   "display_name": "Python 3 (ipykernel)",
   "language": "python",
   "name": "python3"
  },
  "language_info": {
   "codemirror_mode": {
    "name": "ipython",
    "version": 3
   },
   "file_extension": ".py",
   "mimetype": "text/x-python",
   "name": "python",
   "nbconvert_exporter": "python",
   "pygments_lexer": "ipython3",
   "version": "3.12.4"
  }
 },
 "nbformat": 4,
 "nbformat_minor": 5
}
